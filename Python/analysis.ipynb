{
 "cells": [
  {
   "cell_type": "code",
   "execution_count": null,
   "metadata": {},
   "outputs": [],
   "source": [
    "import pandas as pd\n",
    "import matplotlib.pyplot as plt\n",
    "import seaborn as sns\n",
    "\n",
    "# Load CSV files into DataFrames\n",
    "amazon_df = pd.read_csv(\"Amazon Sale Report.csv\")\n",
    "expense_df = pd.read_csv(\"Expense IIGF.csv\")\n",
    "may2022_df = pd.read_csv(\"May-2022.csv\")\n",
    "march2021_df = pd.read_csv(\"P  L March 2021.csv\")\n",
    "sale_report_df = pd.read_csv(\"Sale Report.csv\")\n",
    "\n",
    "# Explore data (e.g., check first few rows)\n",
    "print(amazon_df.head())\n",
    "\n",
    "# Create visualizations (customize as needed)\n",
    "plt.figure(figsize=(10, 6))\n",
    "sns.barplot(x=\"Category\", y=\"Amount\", data=amazon_df)\n",
    "plt.title(\"Total Sales by Category\")\n",
    "plt.xlabel(\"Category\")\n",
    "plt.ylabel(\"Total Amount\")\n",
    "plt.show()\n"
   ]
  }
 ],
 "metadata": {
  "language_info": {
   "name": "python"
  }
 },
 "nbformat": 4,
 "nbformat_minor": 2
}
